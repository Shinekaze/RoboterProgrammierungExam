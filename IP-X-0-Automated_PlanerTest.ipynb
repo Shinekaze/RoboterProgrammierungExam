{
 "cells": [
  {
   "cell_type": "markdown",
   "metadata": {},
   "source": [
    "Introduction\n",
    "============\n",
    "\n",
    "This is interactive notebook regarding \"Introduction to path planning\". (Author: Björn Hein)\n",
    "\n",
    "License is based on Creative Commons: Attribution-NonCommercial 4.0 International (CC BY-NC 4.0) (pls. check: http://creativecommons.org/licenses/by-nc/4.0/)\n",
    "\n",
    "This notebook imports all discussed algorithms and does a comparison\n",
    "\n",
    "**Attention**: This worksheet has external dependencies \n",
    "\n",
    "* to the files \"InnoKonz2dEnv.py\" or \"InnoKonzShapelyEnv.py\". These files contain simple 2D environments based on numpy arrays or the shapely library with an interface for the use as collision checking in the algorithms.\n",
    "* to all modules like \"**Algorithm**.py\", which contains the corresponding algorithms \n",
    "\n",
    "Important links are:\n",
    "\n",
    "* General Info: http://www.python.org\n",
    "* Python tutorial http://www.python.org/doc/tut/\n",
    "* NetworkX http://networkx.github.io/\n",
    "* NumPy and SciPy Guide http://docs.scipy.org/\n",
    "* Matplotlib gallery http://matplotlib.sourceforge.net/gallery.html\n",
    "\n",
    "\n",
    "Remember that:\n",
    "\n",
    "* you have to press ctrl-return or shift-return, to execute the code in the code sections, only then the variables are \"generated\" and can be used\n",
    "* you can execute the whole notebook by Cell->runAll"
   ]
  },
  {
   "cell_type": "markdown",
   "metadata": {},
   "source": [
    "Adding all planners\n",
    "===========\n"
   ]
  },
  {
   "cell_type": "code",
   "execution_count": null,
   "metadata": {},
   "outputs": [],
   "source": [
    "import sys\n",
    "sys.path.append(\"templates\")\n",
    "%load_ext autoreload\n",
    "%autoreload 2"
   ]
  },
  {
   "cell_type": "code",
   "execution_count": null,
   "metadata": {},
   "outputs": [],
   "source": [
    "from IPPerfMonitor import IPPerfMonitor\n",
    "import IPBasicPRM\n",
    "import IPVISBasicPRM\n",
    "import IPVisibilityPRM\n",
    "import IPVISVisibilityPRM\n",
    "\n",
    "import IPKClosestPRM # for visualization IKVISBasicPRM is used\n",
    "\n",
    "import IPLazyPRM\n",
    "import IPVISLazyPRM\n",
    "\n",
    "import IPRRT\n",
    "import IPRRTSimple\n",
    "#import IPVISRRT\n",
    "\n",
    "import IPAStar\n",
    "import IPVISAStar"
   ]
  },
  {
   "cell_type": "markdown",
   "metadata": {},
   "source": [
    "Set-up of the test scenario and the configuration for all planner\n",
    "===================================\n",
    "\n",
    "Following a procedure to compare all discussed planners are shown:\n",
    "\n",
    "1. Configuration for every planner is defined\n",
    "2. The configuration and the planner is stored in the variable setup, a Python dict()\n",
    "3. the variable setup is then used to uniformly call the planning calls\n"
   ]
  },
  {
   "cell_type": "code",
   "execution_count": null,
   "metadata": {
    "collapsed": false,
    "jupyter": {
     "outputs_hidden": false
    }
   },
   "outputs": [],
   "source": [
    "plannerFactory = dict()\n",
    "\n",
    "basicConfig = dict()\n",
    "basicConfig[\"radius\"] = 5\n",
    "basicConfig[\"numNodes\"] = 300\n",
    "plannerFactory[\"basePRM\"] = [IPBasicPRM.BasicPRM, basicConfig, IPVISBasicPRM.basicPRMVisualize]\n",
    "\n",
    "# basicConfig2 = dict()\n",
    "# basicConfig2[\"radius\"] = 3\n",
    "# basicConfig2[\"numNodes\"] = 300\n",
    "# plannerFactory[\"basePRM2\"] = [IPBasicPRM.BasicPRM, basicConfig2, IPVISBasicPRM.basicPRMVisualize]\n",
    "\n",
    "visbilityConfig = dict()\n",
    "visbilityConfig[\"ntry\"] = 300\n",
    "plannerFactory[\"visibilityPRM\"] = [IPVisibilityPRM.VisPRM, visbilityConfig, IPVISVisibilityPRM.visibilityPRMVisualize]\n",
    "\n",
    "kClosestConfig = dict()\n",
    "kClosestConfig[\"k\"] = 3\n",
    "kClosestConfig[\"numNodes\"] = 300\n",
    "plannerFactory[\"kClosestPRM\"] = [IPKClosestPRM.KClosestPRM, kClosestConfig, IPVISBasicPRM.basicPRMVisualize]\n",
    "\n",
    "lazyConfig = dict()\n",
    "lazyConfig[\"initialRoadmapSize\"] = 5 \n",
    "lazyConfig[\"updateRoadmapSize\"]  = 5 \n",
    "lazyConfig[\"kNearest\"] = 5 \n",
    "plannerFactory[\"lazyPRM\"] = [IPLazyPRM.LazyPRM, lazyConfig, IPVISLazyPRM.lazyPRMVisualize]\n",
    "\n",
    "# astarConfig = dict()\n",
    "# astarConfig[\"heuristic\"] = 'euclidean' \n",
    "# astarConfig[\"w\"]  = 0.5\n",
    "# plannerFactory[\"astar\"] = [IPAStar.AStar, astarConfig, IPVISAStar.aStarVisualize]\n",
    "\n",
    "rrtConfig = dict()\n",
    "rrtConfig[\"numberOfGeneratedNodes\"] = 300 \n",
    "rrtConfig[\"testGoalAfterNumberOfNodes\"]  = 10\n",
    "plannerFactory[\"RRT\"] = [IPRRT.RRT, rrtConfig, IPVISBasicPRM.basicPRMVisualize]\n",
    "\n",
    "rrtSimpleConfig = dict()\n",
    "rrtSimpleConfig[\"numberOfGeneratedNodes\"] = 300 \n",
    "rrtSimpleConfig[\"testGoalAfterNumberOfNodes\"]  = 10\n",
    "plannerFactory[\"simpleRRT\"] = [IPRRTSimple.RRTSimple, rrtSimpleConfig, IPVISBasicPRM.basicPRMVisualize]"
   ]
  },
  {
   "cell_type": "code",
   "execution_count": null,
   "metadata": {
    "collapsed": false,
    "jupyter": {
     "outputs_hidden": false
    }
   },
   "outputs": [],
   "source": [
    "class ResultCollection (object):\n",
    "    \n",
    "    def __init__(self, plannerFactoryName, planner, benchmark, solution, perfDataFrame):\n",
    "        self.plannerFactoryName = plannerFactoryName\n",
    "        self.planner = planner\n",
    "        self.benchmark = benchmark\n",
    "        self.solution = solution\n",
    "        self.perfDataFrame = perfDataFrame"
   ]
  },
  {
   "cell_type": "code",
   "execution_count": null,
   "metadata": {
    "collapsed": false,
    "jupyter": {
     "outputs_hidden": false
    }
   },
   "outputs": [],
   "source": [
    "import IPTestSuite\n",
    "import importlib"
   ]
  },
  {
   "cell_type": "code",
   "execution_count": null,
   "metadata": {},
   "outputs": [],
   "source": [
    "importlib.reload(IPTestSuite)"
   ]
  },
  {
   "cell_type": "code",
   "execution_count": null,
   "metadata": {
    "collapsed": false,
    "jupyter": {
     "outputs_hidden": false
    }
   },
   "outputs": [],
   "source": [
    "for benchmark in IPTestSuite.benchList:\n",
    "    print(benchmark.name)"
   ]
  },
  {
   "cell_type": "code",
   "execution_count": null,
   "metadata": {
    "collapsed": false,
    "jupyter": {
     "outputs_hidden": false
    }
   },
   "outputs": [],
   "source": [
    "resultList = list()\n",
    "\n",
    "for key,producer in list(plannerFactory.items()):\n",
    "    print(key, producer)\n",
    "    for benchmark in IPTestSuite.benchList: #[0:24]\n",
    "        print (\"Planning: \" + key + \" - \" + benchmark.name)\n",
    "        #planner = IPBasicPRM.BasicPRM(benchmark.collisionChecker)\n",
    "        planner = producer[0](benchmark.collisionChecker)\n",
    "        IPPerfMonitor.clearData()\n",
    "        #try:\n",
    "            \n",
    "        resultList.append(ResultCollection(key,\n",
    "                                           planner, \n",
    "                                           benchmark, \n",
    "                                           planner.planPath(benchmark.startList,benchmark.goalList,producer[1]),\n",
    "                                           IPPerfMonitor.dataFrame()\n",
    "                                          ),\n",
    "                        )\n",
    "        #except Exception as e:\n",
    "        #    throw e\n",
    "        #    print (\"PLANNING ERROR ! PLANNING ERROR ! PLANNING ERROR \")\n",
    "        #    pass\n",
    "            \n",
    "\n"
   ]
  },
  {
   "cell_type": "code",
   "execution_count": null,
   "metadata": {},
   "outputs": [],
   "source": [
    "print(plannerFactory.items())"
   ]
  },
  {
   "cell_type": "code",
   "execution_count": null,
   "metadata": {
    "tags": []
   },
   "outputs": [],
   "source": [
    "import matplotlib.pyplot as plt\n",
    "\n",
    "for result in resultList:\n",
    "    \n",
    "    fig_local = plt.figure(figsize=(10,10))\n",
    "    ax = fig_local.add_subplot(1,1,1)\n",
    "    title = result.plannerFactoryName + \" - \" + result.benchmark.name\n",
    "    if result.solution == []:\n",
    "        title += \" (No path found!)\"\n",
    "    title += \"\\n Assumed complexity level \" + str(result.benchmark.level)\n",
    "    ax.set_title(title, color='w')\n",
    "    try:\n",
    "        #IPVISBasicsPRM.basicPRMVisualize(result.planner, result.solution, ax=ax, nodeSize=100))\n",
    "        plannerFactory[result.plannerFactoryName][2](result.planner, result.solution, ax=ax, nodeSize=100)\n",
    "    except:\n",
    "        pass\n",
    "    "
   ]
  },
  {
   "cell_type": "code",
   "execution_count": null,
   "metadata": {},
   "outputs": [],
   "source": [
    "for result in resultList:\n",
    "    print(result.benchmark.name  + \" - \" +  result.plannerFactoryName, result.solution)"
   ]
  },
  {
   "cell_type": "code",
   "execution_count": null,
   "metadata": {
    "collapsed": false,
    "jupyter": {
     "outputs_hidden": false
    }
   },
   "outputs": [],
   "source": [
    "import numpy as np\n",
    "for bench in IPTestSuite.benchList: #[0:24]\n",
    "    title = bench.name\n",
    "    pathLength = dict()\n",
    "    planningTime = dict()\n",
    "    roadmapSize  = dict()\n",
    "    \n",
    "    for result in resultList:\n",
    "        if result.benchmark.name == bench.name:\n",
    "            print(result.benchmark.name  + \" - \" +  result.plannerFactoryName)\n",
    "            pathLength[result.plannerFactoryName] = len(result.solution)\n",
    "            planningTime[result.plannerFactoryName] = result.perfDataFrame.groupby([\"name\"]).sum()[\"time\"][\"planPath\"]\n",
    "            roadmapSize[result.plannerFactoryName] = result.planner.graph.size()\n",
    "    \n",
    "    fig, ax = plt.subplots()\n",
    "    \n",
    "    width = 0.2\n",
    "    \n",
    "    ax.bar(np.arange(len(pathLength.keys())), pathLength.values(),width, color=\"blue\")\n",
    "    ax.set_ylabel(title + \" Path length\", color=\"blue\")\n",
    "    ax.set_xticks(np.arange(len(pathLength.keys())) + width)\n",
    "    ax.set_xticklabels(pathLength.keys())\n",
    "\n",
    "    ax2 = ax.twinx()\n",
    "    bar = ax2.bar(np.arange(len(pathLength.keys()))+width, planningTime.values(),width, color=\"red\")\n",
    "    ax2.set_ylabel(title + \" Planning time\", color=\"y\")\n",
    "\n",
    "    # Add coloring and patterns on axis two\n",
    "    hatches = ['x' if length==0 else '' for length in pathLength.values()]\n",
    "    color   = ['red' if length==0 else 'yellow' for length in pathLength.values()]\n",
    "    for i,thisbar in enumerate(bar.patches):\n",
    "        thisbar.set_facecolor(color[i])\n",
    "        thisbar.set_hatch(hatches[i])\n",
    "\n",
    "    # Multiple axes \n",
    "    ax3 = ax.twinx()\n",
    "    ax3.bar(np.arange(len(pathLength.keys()))+2*width, roadmapSize.values(),width, color=\"purple\")\n",
    "    ax3.set_ylabel(title + \" Roadmap size\",  color=\"purple\")\n",
    "    ax3.spines['right'].set_position(('axes', 1.15))\n",
    "    ax3.spines['right'].set_color(\"purple\")\n",
    "    \n",
    "\n",
    "    \n",
    "        \n",
    "    "
   ]
  },
  {
   "cell_type": "code",
   "execution_count": null,
   "metadata": {},
   "outputs": [],
   "source": [
    "result.perfDataFrame.groupby([\"name\"]).sum()[\"time\"]"
   ]
  },
  {
   "cell_type": "code",
   "execution_count": null,
   "metadata": {},
   "outputs": [],
   "source": [
    "from IPSmoothing import IPSmoothing\n",
    "k = 3 # Parameter for smoothing\n",
    "eps = 0.5 # Cancel threshold for DelTree\n",
    "variance_steps = 20\n",
    "min_variance = 0.01\n",
    "\n",
    "IPSmoothing.statistics = []\n",
    "\n",
    "for result in resultList:\n",
    "\n",
    "    smoother = IPSmoothing(result, plannerFactory)\n",
    "\n",
    "    smoothed_graph = smoother.smooth_solution(k, eps, variance_steps, min_variance)\n",
    "\n",
    "    if smoothed_graph is not None:\n",
    "        smoother.visualize_path(plannerFactory, smoothed_graph)\n",
    "        smoother.draw_history()\n",
    "\n",
    "    # break\n",
    "\n",
    "IPSmoothing.draw_statistics(IPTestSuite.benchList) #[0:24]\n",
    "\n",
    "IPSmoothing.draw_history_per_benchmark(IPTestSuite.benchList, num_coll_checks = 200, combine_all = False)\n",
    "IPSmoothing.draw_history_per_benchmark(IPTestSuite.benchList, num_coll_checks = 200, combine_all = True)\n",
    "\n",
    "IPSmoothing.draw_statistics_all_combined()\n",
    "\n"
   ]
  },
  {
   "cell_type": "code",
   "execution_count": null,
   "metadata": {},
   "outputs": [],
   "source": []
  }
 ],
 "metadata": {
  "kernelspec": {
   "display_name": "Python 3 (ipykernel)",
   "language": "python",
   "name": "python3"
  },
  "language_info": {
   "codemirror_mode": {
    "name": "ipython",
    "version": 3
   },
   "file_extension": ".py",
   "mimetype": "text/x-python",
   "name": "python",
   "nbconvert_exporter": "python",
   "pygments_lexer": "ipython3",
   "version": "3.9.2"
  }
 },
 "nbformat": 4,
 "nbformat_minor": 4
}
